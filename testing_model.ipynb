{
 "cells": [
  {
   "cell_type": "code",
   "execution_count": null,
   "metadata": {},
   "outputs": [],
   "source": [
    "import joblib\n",
    "import numpy as np\n",
    "\n",
    "# Load model\n",
    "svm_model = joblib.load('model_Svm_sirosis.pkl')\n",
    "\n"
   ]
  },
  {
   "cell_type": "code",
   "execution_count": 2,
   "metadata": {},
   "outputs": [],
   "source": [
    "# Load scaler yang telah disimpan\n",
    "scaler = joblib.load('scaler_sirosis.pkl')"
   ]
  },
  {
   "cell_type": "code",
   "execution_count": null,
   "metadata": {},
   "outputs": [],
   "source": [
    "# import numpy as np\n",
    "\n",
    "# # Input data untuk prediksi\n",
    "# # Input data untuk prediksi\n",
    "# features = np.array([\n",
    "#     1504,   # N_Days\n",
    "#     1,     # Drug\n",
    "#     13918,    # Age\n",
    "#     1,     # Sex\n",
    "#     0,     # Ascites\n",
    "#     1,     # Hepatomegaly\n",
    "#     0,     # Spiders\n",
    "#     1,     # Edema\n",
    "#     1.2,   # Bilirubin\n",
    "#     279,   # Cholesterol\n",
    "#     3.53,   # Albumin\n",
    "#     143,   # Copper\n",
    "#     671,    # Alk_Phos\n",
    "#     113.15,    # SGOT\n",
    "#     72,   # Tryglicerides\n",
    "#     136,   # Platelets\n",
    "#     10.9,    # Prothrombin\n",
    "#     3      # Stage\n",
    "# ]).reshape(1, -1)  # Bentuk array menjadi 2D\n",
    "\n",
    "# # Prediksi\n",
    "# prediction = model.predict(features)\n",
    "# print(f\"Hasil prediksi Status: {prediction[0]}\")\n",
    "\n"
   ]
  },
  {
   "cell_type": "code",
   "execution_count": 21,
   "metadata": {},
   "outputs": [
    {
     "name": "stdout",
     "output_type": "stream",
     "text": [
      "Hasil prediksi Status untuk ID 1: 1\n",
      "Hasil prediksi Status untuk ID 2: 2\n",
      "Hasil prediksi Status untuk ID 3: 2\n",
      "Hasil prediksi Status untuk ID 4: 0\n",
      "Hasil prediksi Status untuk ID 5: 0\n"
     ]
    },
    {
     "name": "stderr",
     "output_type": "stream",
     "text": [
      "C:\\Users\\jstwy\\AppData\\Local\\Packages\\PythonSoftwareFoundation.Python.3.10_qbz5n2kfra8p0\\LocalCache\\local-packages\\Python310\\site-packages\\sklearn\\base.py:465: UserWarning: X does not have valid feature names, but StandardScaler was fitted with feature names\n",
      "  warnings.warn(\n",
      "C:\\Users\\jstwy\\AppData\\Local\\Packages\\PythonSoftwareFoundation.Python.3.10_qbz5n2kfra8p0\\LocalCache\\local-packages\\Python310\\site-packages\\sklearn\\base.py:465: UserWarning: X does not have valid feature names, but StandardScaler was fitted with feature names\n",
      "  warnings.warn(\n",
      "C:\\Users\\jstwy\\AppData\\Local\\Packages\\PythonSoftwareFoundation.Python.3.10_qbz5n2kfra8p0\\LocalCache\\local-packages\\Python310\\site-packages\\sklearn\\base.py:465: UserWarning: X does not have valid feature names, but StandardScaler was fitted with feature names\n",
      "  warnings.warn(\n",
      "C:\\Users\\jstwy\\AppData\\Local\\Packages\\PythonSoftwareFoundation.Python.3.10_qbz5n2kfra8p0\\LocalCache\\local-packages\\Python310\\site-packages\\sklearn\\base.py:465: UserWarning: X does not have valid feature names, but StandardScaler was fitted with feature names\n",
      "  warnings.warn(\n",
      "C:\\Users\\jstwy\\AppData\\Local\\Packages\\PythonSoftwareFoundation.Python.3.10_qbz5n2kfra8p0\\LocalCache\\local-packages\\Python310\\site-packages\\sklearn\\base.py:465: UserWarning: X does not have valid feature names, but StandardScaler was fitted with feature names\n",
      "  warnings.warn(\n"
     ]
    }
   ],
   "source": [
    "import numpy as np\n",
    "\n",
    "# Input data untuk prediksi dari dataset\n",
    "feature_sets = [\n",
    "    np.array([1504, 1, 13634, 0, 0, 1, 1, 0, 3.4, 279, 3.53, 143, 671, 113.15, 72, 136, 10.9, 3]),  # ID 5\n",
    "    np.array([2503, 1, 24201, 0, 0, 1, 0, 0, 0.8, 248, 3.98, 50, 944, 93.00, 63, 257, 11.0, 3]),   # ID 6\n",
    "    np.array([3762, 1, 19619, 0, 0, 1, 1, 0, 1.4, 259, 4.16, 46, 1104, 79.05, 79, 258, 12.0, 4]),  # ID 11\n",
    "    np.array([3577, 1, 16688, 0, 0, 0, 0, 0, 0.7, 281, 3.85, 40, 1181, 88.35, 130, 244, 10.6, 3]),  # ID 13\n",
    "    np.array([3672, 1, 14772, 0, 0, 0, 0, 0, 0.7, 204, 3.66, 28, 685, 72.85, 58, 198, 10.8, 3])    # ID 16\n",
    "]\n",
    "\n",
    "# Ubah list feature_sets menjadi array 2D\n",
    "feature_sets = np.array(feature_sets)\n",
    "\n",
    "# Variabel untuk menyimpan true_labels\n",
    "true_labels = []\n",
    "\n",
    "# Prediksi untuk setiap set fitur\n",
    "for i, features in enumerate(feature_sets):\n",
    "    # Lakukan scaling pada data baru\n",
    "    scaled_features = scaler.transform(features.reshape(1, -1))  # Ubah fitur menjadi bentuk 2D (1 sample, n features)\n",
    "    \n",
    "    # Prediksi menggunakan model\n",
    "    prediction = svm_model.predict(scaled_features)\n",
    "    \n",
    "    # Tambahkan hasil prediksi ke dalam true_labels\n",
    "    true_labels.append(prediction[0])\n",
    "    \n",
    "    # Cetak hasil prediksi\n",
    "    print(f\"Hasil prediksi Status untuk ID {i + 1}: {prediction[0]}\")"
   ]
  },
  {
   "cell_type": "code",
   "execution_count": null,
   "metadata": {},
   "outputs": [],
   "source": [
    "# # Meminta input dari pengguna\n",
    "# n_days = int(input(\"Masukkan jumlah hari sejak diagnosis (N_Days): \"))\n",
    "# drug = int(input(\"Masukkan nama obat yang sedang dikonsumsi: \"))\n",
    "# age = int(input(\"Masukkan usia pasien: \"))\n",
    "# sex = int(input(\"Masukkan jenis kelamin (1=Pria, 0=Wanita): \"))\n",
    "# ascites = int(input(\"Apakah pasien memiliki ascites (1=Ya, 0=Tidak): \"))\n",
    "# hepatomegaly = int(input(\"Apakah pasien memiliki hepatomegaly (1=Ya, 0=Tidak): \"))\n",
    "# spiders = int(input(\"Apakah pasien memiliki spiders (1=Ya, 0=Tidak): \"))\n",
    "# edema = int(input(\"Apakah pasien memiliki edema (1=Ya, 0=Tidak): \"))\n",
    "# bilirubin = float(input(\"Masukkan nilai bilirubin (mg/dL): \"))\n",
    "# cholesterol = float(input(\"Masukkan nilai kolesterol (mg/dL): \"))\n",
    "# albumin = float(input(\"Masukkan nilai albumin (g/dL): \"))\n",
    "# copper = float(input(\"Masukkan nilai tembaga (µg/dL): \"))\n",
    "# alk_phos = float(input(\"Masukkan nilai alkaline phosphatase (IU/L): \"))\n",
    "# sgot = float(input(\"Masukkan nilai SGOT (IU/L): \"))\n",
    "# tryglicerides = float(input(\"Masukkan nilai trigliserida (mg/dL): \"))\n",
    "# platelets = float(input(\"Masukkan jumlah trombosit (10^3/µL): \"))\n",
    "# prothrombin = float(input(\"Masukkan waktu prothrombin (detik): \"))\n",
    "# stage = int(input(\"Masukkan stadium penyakit (1-4): \"))\n",
    "\n",
    "# # Gabungkan input menjadi array numpy\n",
    "# features = np.array([\n",
    "#     n_days, drug, age, sex, ascites, hepatomegaly, spiders, edema,\n",
    "#     bilirubin, cholesterol, albumin, copper, alk_phos, sgot,\n",
    "#     tryglicerides, platelets, prothrombin, stage\n",
    "# ]).reshape(1, -1)\n",
    "\n",
    "# # Normalisasi data dengan scaler\n",
    "# scaled_features = scaler.transform(features)\n",
    "\n",
    "# # Prediksi menggunakan model\n",
    "# prediction = svm_model.predict(scaled_features)\n",
    "\n",
    "# # Cetak hasil prediksi\n",
    "# print(f\"Hasil prediksi Status: {prediction[0]}\")\n"
   ]
  },
  {
   "cell_type": "code",
   "execution_count": null,
   "metadata": {},
   "outputs": [
    {
     "name": "stdout",
     "output_type": "stream",
     "text": [
      "Akurasi untuk input pengguna: 100.00%\n"
     ]
    },
    {
     "name": "stderr",
     "output_type": "stream",
     "text": [
      "C:\\Users\\jstwy\\AppData\\Local\\Packages\\PythonSoftwareFoundation.Python.3.10_qbz5n2kfra8p0\\LocalCache\\local-packages\\Python310\\site-packages\\sklearn\\base.py:465: UserWarning: X does not have valid feature names, but StandardScaler was fitted with feature names\n",
      "  warnings.warn(\n"
     ]
    }
   ],
   "source": [
    "from sklearn.metrics import accuracy_score, confusion_matrix, classification_report\n",
    "\n",
    "# Melakukan scaling pada data input (menggunakan fitur yang sudah diubah menjadi 2D)\n",
    "scaled_input_data = scaler.transform(feature_sets)\n",
    "\n",
    "# Prediksi untuk setiap input\n",
    "predictions = svm_model.predict(scaled_input_data)\n"
   ]
  },
  {
   "cell_type": "code",
   "execution_count": null,
   "metadata": {},
   "outputs": [
    {
     "name": "stdout",
     "output_type": "stream",
     "text": [
      "Hasil prediksi Status untuk ID 1: 1\n",
      "Hasil prediksi Status untuk ID 2: 2\n",
      "Hasil prediksi Status untuk ID 3: 2\n",
      "Hasil prediksi Status untuk ID 4: 0\n",
      "Hasil prediksi Status untuk ID 5: 0\n",
      "\n",
      "Akurasi untuk input pengguna: 100.00%\n",
      "\n",
      "Confusion Matrix:\n",
      "[[2 0 0]\n",
      " [0 1 0]\n",
      " [0 0 2]]\n",
      "\n",
      "Classification Report:\n",
      "              precision    recall  f1-score   support\n",
      "\n",
      "           0       1.00      1.00      1.00         2\n",
      "           1       1.00      1.00      1.00         1\n",
      "           2       1.00      1.00      1.00         2\n",
      "\n",
      "    accuracy                           1.00         5\n",
      "   macro avg       1.00      1.00      1.00         5\n",
      "weighted avg       1.00      1.00      1.00         5\n",
      "\n"
     ]
    }
   ],
   "source": [
    "\n",
    "\n",
    "# Cetak hasil prediksi untuk setiap ID\n",
    "for i, prediction in enumerate(predictions):\n",
    "    print(f\"Hasil prediksi Status untuk ID {i + 1}: {prediction}\")\n",
    "\n",
    "# Menghitung akurasi\n",
    "accuracy = accuracy_score(true_labels, predictions)\n",
    "print(f\"\\nAkurasi untuk input pengguna: {accuracy * 100:.2f}%\")\n",
    "\n",
    "# Evaluasi lebih lanjut: confusion matrix dan classification report\n",
    "conf_matrix = confusion_matrix(true_labels, predictions)\n",
    "class_report = classification_report(true_labels, predictions)\n",
    "\n",
    "print(\"\\nConfusion Matrix:\")\n",
    "print(conf_matrix)\n",
    "print(\"\\nClassification Report:\")\n",
    "print(class_report)"
   ]
  }
 ],
 "metadata": {
  "kernelspec": {
   "display_name": "Python 3",
   "language": "python",
   "name": "python3"
  },
  "language_info": {
   "codemirror_mode": {
    "name": "ipython",
    "version": 3
   },
   "file_extension": ".py",
   "mimetype": "text/x-python",
   "name": "python",
   "nbconvert_exporter": "python",
   "pygments_lexer": "ipython3",
   "version": "3.10.11"
  }
 },
 "nbformat": 4,
 "nbformat_minor": 2
}
